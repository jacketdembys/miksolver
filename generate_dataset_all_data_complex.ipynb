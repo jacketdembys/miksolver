{
 "cells": [
  {
   "cell_type": "code",
   "execution_count": 1,
   "id": "b63fc53e",
   "metadata": {},
   "outputs": [],
   "source": [
    "#%matplotlib widget\n",
    "from mpl_toolkits.mplot3d import Axes3D"
   ]
  },
  {
   "cell_type": "code",
   "execution_count": 2,
   "id": "5c66c395",
   "metadata": {},
   "outputs": [],
   "source": [
    "import torch\n",
    "import numpy as np\n",
    "import pandas as pd\n",
    "import matplotlib.pyplot as plt\n",
    "import sys\n",
    "import random\n",
    "import os\n",
    "import time\n",
    "from utils import *"
   ]
  },
  {
   "cell_type": "code",
   "execution_count": 3,
   "id": "958b6731",
   "metadata": {},
   "outputs": [],
   "source": [
    "#!pip install ipympl"
   ]
  },
  {
   "cell_type": "code",
   "execution_count": 4,
   "id": "2ab475a6",
   "metadata": {},
   "outputs": [
    {
     "name": "stdout",
     "output_type": "stream",
     "text": [
      "Pytorch version: ... 2.0.0+cu117 \n",
      "Python version ... 3.11.5 (main, Sep 11 2023, 13:54:46) [GCC 11.2.0]\n"
     ]
    }
   ],
   "source": [
    "print(\"Pytorch version: ... {} \".format(torch.__version__))\n",
    "print(\"Python version ... {}\".format(sys.version))"
   ]
  },
  {
   "cell_type": "code",
   "execution_count": 5,
   "id": "372825e4",
   "metadata": {},
   "outputs": [],
   "source": [
    "# compute epoch time\n",
    "def epoch_time(start_time, end_time):\n",
    "    elapsed_time = end_time - start_time\n",
    "    elapsed_mins = int(elapsed_time / 60)\n",
    "    elapsed_secs = int(elapsed_time - (elapsed_mins * 60))\n",
    "    return elapsed_mins, elapsed_secs"
   ]
  },
  {
   "cell_type": "code",
   "execution_count": 9,
   "id": "4afac3a2",
   "metadata": {},
   "outputs": [],
   "source": [
    "def get_random_DH_1():\n",
    "    \n",
    "    # nDoF: number of degrees of freedom\n",
    "    max_nDoF = 10\n",
    "    link_length_range = (100/1000, 1000/1000)\n",
    "    \n",
    "    nDoF = torch.randint(2, max_nDoF, (1,1))\n",
    "    rDH = torch.zeros(nDoF, 4)\n",
    "    \n",
    "    # rDH[:,0]: theta\n",
    "    rDH[:,0] = torch.rand(nDoF)\n",
    "    #qlim = torch.zeros(nDoF,2)\n",
    "    #qlim[:,0] = -torch.pi \n",
    "    #qlim[:,1] = torch.pi \n",
    "    #rDH[:,0] = torch.distributions.uniform.Uniform(qlim[:,0], qlim[:,1]).sample()\n",
    "    \n",
    "    # rDH[:,1]: d\n",
    "    rDH[:,1] = torch.empty(nDoF, dtype=torch.float32).uniform_(link_length_range[0], link_length_range[1])\n",
    "    \n",
    "    # rDH[:,2]: a\n",
    "    rDH[:,2] = torch.empty(nDoF, dtype=torch.float32).uniform_(link_length_range[0], link_length_range[1]) \n",
    "    \n",
    "    # rDH[:,3]: alpha\n",
    "    alpha_choice = [0, torch.pi,torch.pi/2,torch.pi/3]\n",
    "    alpha_signs = [-1, 1]\n",
    "    rDH[:,3] = torch.tensor(\n",
    "                            [random.choice(alpha_choice) * random.choice(alpha_signs) for _ in range(nDoF)],\n",
    "                            dtype=torch.float32\n",
    "                            )\n",
    "    \n",
    "    T = forward_kinematics(rDH)\n",
    "\n",
    "    #if not is_orthogonal(T):\n",
    "    #    print(f\"Warning: Transformation matrix from joint 1 to joint {i+1} is not orthogonal.\")\n",
    "    \n",
    "    return rDH, nDoF\n",
    "    \n",
    "\n",
    "\n",
    "\n",
    "def get_random_DH_1(nDoF):\n",
    "    \n",
    "    # nDoF: number of degrees of freedom\n",
    "    link_length_range = (100/1000, 1000/1000)\n",
    "    rDH = torch.zeros(nDoF, 4)\n",
    "    \n",
    "    # rDH[:,0]: theta\n",
    "    rDH[:,0] = torch.rand(nDoF)\n",
    "    #qlim = torch.zeros(nDoF,2)\n",
    "    #qlim[:,0] = -torch.pi \n",
    "    #qlim[:,1] = torch.pi \n",
    "    #rDH[:,0] = torch.distributions.uniform.Uniform(qlim[:,0], qlim[:,1]).sample()\n",
    "    \n",
    "    # rDH[:,1]: d\n",
    "    rDH[:,1] = torch.empty(nDoF, dtype=torch.float32).uniform_(link_length_range[0], link_length_range[1])\n",
    "    \n",
    "    # rDH[:,2]: a\n",
    "    rDH[:,2] = torch.empty(nDoF, dtype=torch.float32).uniform_(link_length_range[0], link_length_range[1]) \n",
    "    \n",
    "    # rDH[:,3]: alpha\n",
    "    alpha_choice = [0, torch.pi,torch.pi/2,torch.pi/3]\n",
    "    alpha_signs = [-1, 1]\n",
    "    rDH[:,3] = torch.tensor(\n",
    "                            [random.choice(alpha_choice) * random.choice(alpha_signs) for _ in range(nDoF)],\n",
    "                            dtype=torch.float32\n",
    "                            )\n",
    "    \n",
    "    T = forward_kinematics(rDH)\n",
    "\n",
    "    #if not is_orthogonal(T):\n",
    "    #    print(f\"Warning: Transformation matrix from joint 1 to joint {i+1} is not orthogonal.\")\n",
    "    \n",
    "    return rDH\n",
    "\n",
    "    \n",
    "# Function to check orthogonality of rotation matrix\n",
    "def is_orthogonal(matrix):\n",
    "    \"\"\"Check if a rotation matrix is orthogonal by verifying if R * R^T = I.\"\"\"\n",
    "    rotation_part = matrix[:3, :3]  # Extract rotation part\n",
    "    return np.allclose(np.dot(rotation_part, rotation_part.T), np.eye(3), atol=1e-6)\n"
   ]
  },
  {
   "cell_type": "code",
   "execution_count": 10,
   "id": "02a167ac",
   "metadata": {},
   "outputs": [
    {
     "name": "stdout",
     "output_type": "stream",
     "text": [
      "Valid: Transformation matrix for joint 1 is orthogonal.\n",
      "Valid: Transformation matrix for joint 2 is orthogonal.\n",
      "Generated 2DoF rDH =\n",
      "tensor([[0.3226, 0.2033, 0.9905, 1.5708],\n",
      "        [0.3569, 0.1083, 0.9002, 0.0000]])\n"
     ]
    }
   ],
   "source": [
    "rDH, nDoF = get_random_DH()\n",
    "print(\"Generated {}DoF rDH =\\n{}\".format(nDoF.item(), rDH))"
   ]
  },
  {
   "cell_type": "code",
   "execution_count": null,
   "id": "815af727",
   "metadata": {},
   "outputs": [],
   "source": []
  }
 ],
 "metadata": {
  "kernelspec": {
   "display_name": "Python 3 (ipykernel)",
   "language": "python",
   "name": "python3"
  },
  "language_info": {
   "codemirror_mode": {
    "name": "ipython",
    "version": 3
   },
   "file_extension": ".py",
   "mimetype": "text/x-python",
   "name": "python",
   "nbconvert_exporter": "python",
   "pygments_lexer": "ipython3",
   "version": "3.11.5"
  }
 },
 "nbformat": 4,
 "nbformat_minor": 5
}
